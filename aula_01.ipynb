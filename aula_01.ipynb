{
 "cells": [
  {
   "cell_type": "markdown",
   "metadata": {},
   "source": [
    "# Introdução Teórica"
   ]
  },
  {
   "cell_type": "markdown",
   "metadata": {},
   "source": [
    "<img src=\"img/01.png\" alt=\"image\" style=\"width:400px; height:300px\"/>\n",
    "<img src=\"img/02.png\" alt=\"image\" style=\"width:400px; height:300px\"/>\n"
   ]
  },
  {
   "cell_type": "markdown",
   "metadata": {},
   "source": [
    "<img src=\"img/031.png\" alt=\"image\" style=\"width:800px; height:400px\"/>"
   ]
  },
  {
   "cell_type": "markdown",
   "metadata": {},
   "source": [
    "<img src=\"img/04.png\" alt=\"image\" style=\"width:500px; height:150px\"/>"
   ]
  },
  {
   "cell_type": "markdown",
   "metadata": {},
   "source": [
    "<img src=\"img/05.png\" alt=\"image\" style=\"width:1000px; height:600px\"/>"
   ]
  },
  {
   "cell_type": "markdown",
   "metadata": {},
   "source": [
    "Observação: \n",
    "\n",
    "* Algoritmos de GLM são deterministicos. Portanto, devem ser treinados com a amostra inteira, sem que haja risco de overfitting. \n",
    "* Nao faz sentido se preocupar com modelo superajustado quando analisamos modelos GLM. \n",
    "* Só teremos problemas se colocarmos um outlier como observação nao inicialmente presente na amostra. Ou seja, convém fazer não um tratamento de overfitting, mas sim um tratamento de outlier."
   ]
  },
  {
   "cell_type": "markdown",
   "metadata": {},
   "source": [
    "<img src=\"img/06.png\" alt=\"image\" style=\"width:1000px; height:500px\"/>\n"
   ]
  },
  {
   "cell_type": "markdown",
   "metadata": {},
   "source": [
    "<img src=\"img/07.png\" alt=\"image\" style=\"width:1200px; height:600px\"/>\n",
    "<img src=\"img/08.png\" alt=\"image\" style=\"width:1000px; height:600px\"/>\n",
    "<img src=\"img/09.png\" alt=\"image\" style=\"width:1000px; height:600px\"/>\n"
   ]
  },
  {
   "cell_type": "markdown",
   "metadata": {},
   "source": [
    "Modelo Minimos quadrados ordinarios (OLS - Ordinary least square) - Modelo que tem como objetivo minimizar a média dos erros ao quadrado.\n",
    "\n",
    "<img src=\"img/11.png\" alt=\"image\" style=\"width:600px; height:500px\"/>\n"
   ]
  },
  {
   "cell_type": "markdown",
   "metadata": {},
   "source": [
    "Abaixo temos a reta de regressão gerada pelo excel e a função solver utilizada para calcular alfa e beta usando OLS.\n",
    "Os valores de alfa e beta coincidem com os presentes na equação. \n",
    "\n",
    "<img src=\"img/12.png\" alt=\"image\" style=\"width:1000px; height:400px\"/>\n"
   ]
  },
  {
   "cell_type": "markdown",
   "metadata": {},
   "source": [
    "Já o cálculo do R² pode ser feito diretamente pela formula ou elevando ao quadrado a correlação entre a variável dependente e a variável explicativa. \n",
    "\n",
    "\n",
    "<img src=\"img/13.png\" alt=\"image\" style=\"width:500px; height:200px\"/>\n",
    "\n",
    "\n",
    "\n",
    "\n",
    "\n",
    "\n",
    "\n",
    "Como resultado temos: \n",
    "\n",
    "<img src=\"img/14.png\" alt=\"image\" style=\"width:1000px; height:400px\"/>\n"
   ]
  },
  {
   "cell_type": "markdown",
   "metadata": {},
   "source": [
    "Observação: \n",
    "\n",
    "* Atenção. Correlação não implica causalidade. \n",
    "* Exemplo interativo: website spurious-correlations."
   ]
  },
  {
   "cell_type": "markdown",
   "metadata": {},
   "source": [
    "# Código"
   ]
  },
  {
   "cell_type": "code",
   "execution_count": 6,
   "metadata": {},
   "outputs": [],
   "source": [
    "import pandas as pd \n",
    "import statsmodels.api as sm"
   ]
  },
  {
   "cell_type": "code",
   "execution_count": 3,
   "metadata": {},
   "outputs": [
    {
     "data": {
      "text/html": [
       "<div>\n",
       "<style scoped>\n",
       "    .dataframe tbody tr th:only-of-type {\n",
       "        vertical-align: middle;\n",
       "    }\n",
       "\n",
       "    .dataframe tbody tr th {\n",
       "        vertical-align: top;\n",
       "    }\n",
       "\n",
       "    .dataframe thead th {\n",
       "        text-align: right;\n",
       "    }\n",
       "</style>\n",
       "<table border=\"1\" class=\"dataframe\">\n",
       "  <thead>\n",
       "    <tr style=\"text-align: right;\">\n",
       "      <th></th>\n",
       "      <th>tempo</th>\n",
       "      <th>distancia</th>\n",
       "    </tr>\n",
       "  </thead>\n",
       "  <tbody>\n",
       "    <tr>\n",
       "      <th>0</th>\n",
       "      <td>15</td>\n",
       "      <td>8</td>\n",
       "    </tr>\n",
       "    <tr>\n",
       "      <th>1</th>\n",
       "      <td>20</td>\n",
       "      <td>6</td>\n",
       "    </tr>\n",
       "    <tr>\n",
       "      <th>2</th>\n",
       "      <td>20</td>\n",
       "      <td>15</td>\n",
       "    </tr>\n",
       "    <tr>\n",
       "      <th>3</th>\n",
       "      <td>40</td>\n",
       "      <td>20</td>\n",
       "    </tr>\n",
       "    <tr>\n",
       "      <th>4</th>\n",
       "      <td>50</td>\n",
       "      <td>25</td>\n",
       "    </tr>\n",
       "    <tr>\n",
       "      <th>5</th>\n",
       "      <td>25</td>\n",
       "      <td>11</td>\n",
       "    </tr>\n",
       "    <tr>\n",
       "      <th>6</th>\n",
       "      <td>10</td>\n",
       "      <td>5</td>\n",
       "    </tr>\n",
       "    <tr>\n",
       "      <th>7</th>\n",
       "      <td>55</td>\n",
       "      <td>32</td>\n",
       "    </tr>\n",
       "    <tr>\n",
       "      <th>8</th>\n",
       "      <td>35</td>\n",
       "      <td>28</td>\n",
       "    </tr>\n",
       "    <tr>\n",
       "      <th>9</th>\n",
       "      <td>30</td>\n",
       "      <td>20</td>\n",
       "    </tr>\n",
       "  </tbody>\n",
       "</table>\n",
       "</div>"
      ],
      "text/plain": [
       "   tempo  distancia\n",
       "0     15          8\n",
       "1     20          6\n",
       "2     20         15\n",
       "3     40         20\n",
       "4     50         25\n",
       "5     25         11\n",
       "6     10          5\n",
       "7     55         32\n",
       "8     35         28\n",
       "9     30         20"
      ]
     },
     "execution_count": 3,
     "metadata": {},
     "output_type": "execute_result"
    }
   ],
   "source": [
    "data = [[15,8],[20,6],[20,15],[40, 20],[50,25],[25,11],[10,5],[55,32],[35,28],[30,20]]\n",
    "data_temp_dist = pd.DataFrame(data=data, columns=['tempo','distancia'])\n",
    "data_temp_dist"
   ]
  },
  {
   "cell_type": "code",
   "execution_count": 8,
   "metadata": {},
   "outputs": [
    {
     "name": "stdout",
     "output_type": "stream",
     "text": [
      "                            OLS Regression Results                            \n",
      "==============================================================================\n",
      "Dep. Variable:                  tempo   R-squared:                       0.819\n",
      "Model:                            OLS   Adj. R-squared:                  0.797\n",
      "Method:                 Least Squares   F-statistic:                     36.30\n",
      "Date:                Fri, 16 Aug 2024   Prob (F-statistic):           0.000314\n",
      "Time:                        08:32:38   Log-Likelihood:                -32.123\n",
      "No. Observations:                  10   AIC:                             68.25\n",
      "Df Residuals:                       8   BIC:                             68.85\n",
      "Df Model:                           1                                         \n",
      "Covariance Type:            nonrobust                                         \n",
      "==============================================================================\n",
      "                 coef    std err          t      P>|t|      [0.025      0.975]\n",
      "------------------------------------------------------------------------------\n",
      "const          5.8784      4.532      1.297      0.231      -4.573      16.330\n",
      "distancia      1.4189      0.235      6.025      0.000       0.876       1.962\n",
      "==============================================================================\n",
      "Omnibus:                        1.016   Durbin-Watson:                   2.099\n",
      "Prob(Omnibus):                  0.602   Jarque-Bera (JB):                0.694\n",
      "Skew:                          -0.262   Prob(JB):                        0.707\n",
      "Kurtosis:                       1.820   Cond. No.                         41.1\n",
      "==============================================================================\n",
      "\n",
      "Notes:\n",
      "[1] Standard Errors assume that the covariance matrix of the errors is correctly specified.\n"
     ]
    },
    {
     "name": "stderr",
     "output_type": "stream",
     "text": [
      "c:\\Users\\z004s8rp\\AppData\\Local\\Programs\\Python\\Python312\\Lib\\site-packages\\scipy\\stats\\_axis_nan_policy.py:531: UserWarning: kurtosistest only valid for n>=20 ... continuing anyway, n=10\n",
      "  res = hypotest_fun_out(*samples, **kwds)\n"
     ]
    }
   ],
   "source": [
    "X = data_temp_dist['distancia']\n",
    "y = data_temp_dist['tempo']\n",
    "\n",
    "#Add constant to the independent variable matrix (Intercept)\n",
    "X = sm.add_constant(X) \n",
    "model = sm.OLS(y,X).fit()\n",
    "print(model.summary())"
   ]
  },
  {
   "cell_type": "markdown",
   "metadata": {},
   "source": [
    "Questionamento final de classe: \n",
    "\n",
    "<b> Apenas os parametros R² são suficiente para explicar a significancia e importancia do modelo? </b>\n",
    "\n",
    "Os 4 modelos na imagem abaixo possuem a mesma equação de reta, mesmo alpha, mesmo Beta e mesmo R². No entanto atenção que, apesar disso eles não possuem boa aderencia em todos os modelos. \n",
    "Logo, a conclusão é que não somente o R² irá definir a qualidade de ajuste ao modelo. \n",
    "\n",
    "<img src=\"img/15.png\" alt=\"image\" style=\"width:1000px; height:700px\"/>"
   ]
  }
 ],
 "metadata": {
  "kernelspec": {
   "display_name": "Python 3",
   "language": "python",
   "name": "python3"
  },
  "language_info": {
   "codemirror_mode": {
    "name": "ipython",
    "version": 3
   },
   "file_extension": ".py",
   "mimetype": "text/x-python",
   "name": "python",
   "nbconvert_exporter": "python",
   "pygments_lexer": "ipython3",
   "version": "3.12.2"
  }
 },
 "nbformat": 4,
 "nbformat_minor": 2
}
